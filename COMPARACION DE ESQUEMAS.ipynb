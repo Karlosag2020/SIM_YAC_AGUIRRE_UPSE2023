{
  "nbformat": 4,
  "nbformat_minor": 0,
  "metadata": {
    "colab": {
      "provenance": [],
      "authorship_tag": "ABX9TyN2PKfBhglMMahJkbfBfJ/E",
      "include_colab_link": true
    },
    "kernelspec": {
      "name": "python3",
      "display_name": "Python 3"
    },
    "language_info": {
      "name": "python"
    }
  },
  "cells": [
    {
      "cell_type": "markdown",
      "metadata": {
        "id": "view-in-github",
        "colab_type": "text"
      },
      "source": [
        "<a href=\"https://colab.research.google.com/github/Karlosag2020/SIM_YAC_AGUIRRE_UPSE2023/blob/main/COMPARACION%20DE%20ESQUEMAS.ipynb\" target=\"_parent\"><img src=\"https://colab.research.google.com/assets/colab-badge.svg\" alt=\"Open In Colab\"/></a>"
      ]
    },
    {
      "cell_type": "markdown",
      "source": [
        "**COMPARACION DE ESQUEMAS**"
      ],
      "metadata": {
        "id": "OrFyHmUe5hpd"
      }
    },
    {
      "cell_type": "code",
      "execution_count": 29,
      "metadata": {
        "id": "GWB2c4_lqNjK"
      },
      "outputs": [],
      "source": [
        "# importar librerias\n",
        "import numpy as np\n",
        "import math"
      ]
    },
    {
      "cell_type": "code",
      "source": [
        "#DATOS DE YACIMIENTO\n",
        "L=10000\n",
        "dx=2500\n",
        "Tiempo=100000\n",
        "DT=1\n",
        "K=50 #Permeabilida MD\n",
        "por=0.2 #porosidad\n",
        "vis=1 # viscosidad\n",
        "Beta=1\n",
        "CompTotal=1**(-6) #compresibilidad total ps1-1\n",
        "A=200000 #ft^2\n"
      ],
      "metadata": {
        "id": "GvPt5qmgqaLH"
      },
      "execution_count": 30,
      "outputs": []
    },
    {
      "cell_type": "code",
      "source": [
        "Alfa= K/(vis*por*CompTotal)\n",
        "Alfa\n",
        "Eta=(Alfa*DT)/(dx**2)\n",
        "Eta"
      ],
      "metadata": {
        "colab": {
          "base_uri": "https://localhost:8080/"
        },
        "id": "w4yiqwUssbRC",
        "outputId": "f3da6587-3fc6-4bb9-f89e-0dae6279fbdf"
      },
      "execution_count": 31,
      "outputs": [
        {
          "output_type": "execute_result",
          "data": {
            "text/plain": [
              "4e-05"
            ]
          },
          "metadata": {},
          "execution_count": 31
        }
      ]
    },
    {
      "cell_type": "code",
      "source": [
        "#Esquema Explicito\n",
        "def Presdt(P0,P1,P2, Eta): #misma fucnicon para el sistema explicito\n",
        "  Pdt=P1+Eta*(P0-2*P1+P2)\n",
        "  return(Pdt)\n",
        "\n",
        "Pexplicita=np.zeros((Tiempo//DT,L//dx))"
      ],
      "metadata": {
        "id": "z1SBTZO3u97G"
      },
      "execution_count": 50,
      "outputs": []
    },
    {
      "cell_type": "code",
      "source": [
        "#Codiciones iniciales\n",
        "Pyac=1000 #Presion de yacimiento\n",
        "Piz=2000 #Presion de la frontera izquierda\n",
        "Pder=0 #Presion de la frontera derecha\n",
        "Pin=np.ones(L//dx) #vector de condiciones \n",
        "Pres=np.zeros(L//dx)\n",
        "Pin=Pin*Pyac\n",
        "Pin[0]=Piz\n",
        "Pin[len(Pin)-1]=Pder\n",
        "\n",
        "Pin"
      ],
      "metadata": {
        "colab": {
          "base_uri": "https://localhost:8080/"
        },
        "id": "AEc77th1x9gf",
        "outputId": "3e5d2890-c1ed-42cb-cc37-7318ab0e5780"
      },
      "execution_count": 51,
      "outputs": [
        {
          "output_type": "execute_result",
          "data": {
            "text/plain": [
              "array([2000., 1000., 1000.,    0.])"
            ]
          },
          "metadata": {},
          "execution_count": 51
        }
      ]
    },
    {
      "cell_type": "code",
      "source": [
        "t=DT\n",
        "Pexplicita[0]=Pin \n",
        "Pexplicita.shape\n",
        "while t<Tiempo: #ciclo de tiempo\n",
        "  for i in range(0,len(Pin)-1): #ciclo de espacio\n",
        "    if i==0: #condicion inicial\n",
        "      Pres[i]=Pin[0] #presion de la frontera\n",
        "    elif i==len(Pin)-1: #condicion de frontera derecha\n",
        "      Pres[i]=Pin[len(Pin)-1] #Vector de resultado evaluado en ese mismo punto\n",
        "    else:  \n",
        "      Pres[i]=Presdt(Pin[i-1],Pin[i],Pin[i+1],Eta) #guardar en la matriz, indice de la fila, \n",
        "  Pexplicita[t//DT]=Pres   \n",
        "  t=t+DT    #cambio de tiempo\n",
        "  Pin=Pres    #inicio de ciclo"
      ],
      "metadata": {
        "id": "ZBYRZwk70J5e"
      },
      "execution_count": 57,
      "outputs": []
    },
    {
      "cell_type": "code",
      "source": [
        "#Esquema Explicito\n",
        "Pimplicita=np.zeros((Tiempo//DT,L//dx))\n",
        "\n",
        "Pin=np.ones(L//dx) #vector de condiciones \n",
        "Pres=np.zeros(L//dx)\n",
        "Pin=Pin*Pyac\n",
        "Pin[0]=Piz\n",
        "Pin[len(Pin)-1]=Pder\n",
        "N=L//dx #Numero de Nodos\n",
        "Matriz_resolucion=np.zeros([N-2,N-2]) #creacion de matriz cuadrada\n"
      ],
      "metadata": {
        "id": "CYdX28KWCG8X"
      },
      "execution_count": 58,
      "outputs": []
    },
    {
      "cell_type": "code",
      "source": [
        "for i in range(N-2): #Matriz de resolucion,(N-2)debido a que se debe restar por hallarse en la frontera, valores si hay a la izquierda a la derecha no\n",
        "  Matriz_resolucion[i,i]=1+2*Eta #los valores de la diagonal son los mismo por lo tanto si i=j entonces i=i, indice de la matris son iguales\n",
        "  if i>0: # llenar las casillas a la izquierda\n",
        "    Matriz_resolucion[i,i-1]=-Eta\n",
        "  if i<(N-3): # si tiene valor a la derecha, el numero de nodos es N, por lo tanto N-3 es debido a que debe buscar un valor \n",
        "    Matriz_resolucion[i,i+1]=-Eta #llena los valores a la \n"
      ],
      "metadata": {
        "id": "p-NMMyT1Fnsz"
      },
      "execution_count": 59,
      "outputs": []
    },
    {
      "cell_type": "code",
      "source": [
        "Pcal=np.zeros([N-2]) #presion calculada, vector vacio del tamaño N-2\n",
        "Pcal=np.linalg.solve(Matriz_resolucion,Pin[1:-1]) #"
      ],
      "metadata": {
        "id": "Wcf_8809L165"
      },
      "execution_count": 60,
      "outputs": []
    },
    {
      "cell_type": "code",
      "source": [
        "Pcal #valores calculados de la diagonal"
      ],
      "metadata": {
        "colab": {
          "base_uri": "https://localhost:8080/"
        },
        "id": "4j-ZlQDiMe4C",
        "outputId": "624d4442-6e14-46ce-dac5-1f7a678ff7c7"
      },
      "execution_count": 61,
      "outputs": [
        {
          "output_type": "execute_result",
          "data": {
            "text/plain": [
              "array([999.9600016, 999.9600016])"
            ]
          },
          "metadata": {},
          "execution_count": 61
        }
      ]
    },
    {
      "cell_type": "code",
      "source": [
        "#condiciones de forntera\n",
        "Pres=np.concatenate(([Piz],Pcal,[Pder])) #\n",
        "Pres"
      ],
      "metadata": {
        "colab": {
          "base_uri": "https://localhost:8080/",
          "height": 205
        },
        "id": "wZNW7Bn6MnHh",
        "outputId": "ffdcf54a-f960-46bf-a616-5cf070edc0b1"
      },
      "execution_count": 66,
      "outputs": [
        {
          "output_type": "error",
          "ename": "TypeError",
          "evalue": "ignored",
          "traceback": [
            "\u001b[0;31m---------------------------------------------------------------------------\u001b[0m",
            "\u001b[0;31mTypeError\u001b[0m                                 Traceback (most recent call last)",
            "\u001b[0;32m<ipython-input-66-e5352440eab1>\u001b[0m in \u001b[0;36m<cell line: 2>\u001b[0;34m()\u001b[0m\n\u001b[1;32m      1\u001b[0m \u001b[0;31m#condiciones de forntera\u001b[0m\u001b[0;34m\u001b[0m\u001b[0;34m\u001b[0m\u001b[0m\n\u001b[0;32m----> 2\u001b[0;31m \u001b[0mPres\u001b[0m\u001b[0;34m=\u001b[0m\u001b[0mnp\u001b[0m\u001b[0;34m.\u001b[0m\u001b[0mconcatenate\u001b[0m\u001b[0;34m(\u001b[0m\u001b[0;34m(\u001b[0m\u001b[0;34m[\u001b[0m\u001b[0mPiz\u001b[0m\u001b[0;34m]\u001b[0m\u001b[0;34m,\u001b[0m\u001b[0mPcal\u001b[0m\u001b[0;34m,\u001b[0m\u001b[0;34m[\u001b[0m\u001b[0mPder\u001b[0m\u001b[0;34m]\u001b[0m\u001b[0;34m)\u001b[0m\u001b[0;34m)\u001b[0m \u001b[0;31m#\u001b[0m\u001b[0;34m\u001b[0m\u001b[0;34m\u001b[0m\u001b[0m\n\u001b[0m\u001b[1;32m      3\u001b[0m \u001b[0mPres\u001b[0m\u001b[0;34m\u001b[0m\u001b[0;34m\u001b[0m\u001b[0m\n",
            "\u001b[0;31mTypeError\u001b[0m: 'tuple' object is not callable"
          ]
        }
      ]
    },
    {
      "cell_type": "code",
      "source": [
        "Pimplicita[0]=Pin\n",
        "t=DT\n",
        "while t<Tiempo: #Ciclo en el tiempo\n",
        "  Pcal=np.linalg.solve(Matriz_resolucion,Pin[i:-1])\n",
        "  Pres=np.concatenate(([Piz],Pcal,[Pder]))\n",
        "  Pimplicita[t//DT]=Pres\n",
        "  Pin=Prest=t+DT"
      ],
      "metadata": {
        "id": "73nbq9i2NJ60"
      },
      "execution_count": null,
      "outputs": []
    }
  ]
}