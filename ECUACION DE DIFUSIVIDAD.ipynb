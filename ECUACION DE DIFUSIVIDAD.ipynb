{
  "nbformat": 4,
  "nbformat_minor": 0,
  "metadata": {
    "colab": {
      "provenance": [],
      "authorship_tag": "ABX9TyOLBYbefpzkfAc2Dy1QKRWL",
      "include_colab_link": true
    },
    "kernelspec": {
      "name": "python3",
      "display_name": "Python 3"
    },
    "language_info": {
      "name": "python"
    }
  },
  "cells": [
    {
      "cell_type": "markdown",
      "metadata": {
        "id": "view-in-github",
        "colab_type": "text"
      },
      "source": [
        "<a href=\"https://colab.research.google.com/github/Karlosag2020/SIM_YAC_AGUIRRE_UPSE2023/blob/main/ECUACION%20DE%20DIFUSIVIDAD.ipynb\" target=\"_parent\"><img src=\"https://colab.research.google.com/assets/colab-badge.svg\" alt=\"Open In Colab\"/></a>"
      ]
    },
    {
      "cell_type": "markdown",
      "source": [],
      "metadata": {
        "id": "dIVOER1QwSpt"
      }
    },
    {
      "cell_type": "markdown",
      "source": [
        "#Simulador de ecuación de difusividad\n"
      ],
      "metadata": {
        "id": "U0XUrjrjwYBD"
      }
    },
    {
      "cell_type": "code",
      "source": [
        "P= [0, 4000, 4000, 4000, 0 ] #condiciones iniciales\n",
        "Nodos=len(P)\n",
        "Nodos2=[0, 1, 2, 3, 4]\n",
        "Tiempo=100\n",
        "DT=10\n",
        "dx=200\n",
        "#Iniciamos\n",
        "t=DT\n",
        "Pin=P\n",
        "Pin2=Pin #Resultado\n",
        "Pdt=[0, 0, 0, 0, 0 ]\n",
        "import numpy as np"
      ],
      "metadata": {
        "id": "zyHNMbjQwbju"
      },
      "execution_count": 14,
      "outputs": []
    },
    {
      "cell_type": "code",
      "source": [
        "def Presdt(P1,P2,P3,deltat,deltax):\n",
        "  return(((P1-2*P2+P3)/(deltax*deltax))*deltat)+P2"
      ],
      "metadata": {
        "id": "e_mz2njRzimP"
      },
      "execution_count": 15,
      "outputs": []
    },
    {
      "cell_type": "code",
      "source": [
        "Presdt(P[0],P[1],P[2],DT,dx)"
      ],
      "metadata": {
        "colab": {
          "base_uri": "https://localhost:8080/"
        },
        "id": "pf6vC_436dAv",
        "outputId": "bfc7c3b0-5cab-4cf6-eb77-e3cf0e9b968c"
      },
      "execution_count": 16,
      "outputs": [
        {
          "output_type": "execute_result",
          "data": {
            "text/plain": [
              "3999.0"
            ]
          },
          "metadata": {},
          "execution_count": 16
        }
      ]
    },
    {
      "cell_type": "code",
      "source": [
        "while t<Tiempo:\n",
        "    for i in (Nodos2):\n",
        "      if i==0:\n",
        "        Pdt[i]=P[0]\n",
        "      elif i==len(Nodos2)-1:\n",
        "        Pdt[i]=P[len(Nodos2)-1]\n",
        "      else:\n",
        "        Pdt[i]=Presdt(Pin[i-1],Pin[i],Pin[i+1],DT,dx)\n",
        "    t=t+DT\n",
        "    Pdt=Pin \n",
        "    Pin2=np.append(Pin2,Pdt)"
      ],
      "metadata": {
        "id": "fM05kjpX0yed"
      },
      "execution_count": 17,
      "outputs": []
    },
    {
      "cell_type": "code",
      "source": [
        "print(Pin2)"
      ],
      "metadata": {
        "colab": {
          "base_uri": "https://localhost:8080/"
        },
        "id": "ztVxGi3E_HJ4",
        "outputId": "e600f9e4-3b3f-4a21-ff39-b2fc92cecaac"
      },
      "execution_count": 18,
      "outputs": [
        {
          "output_type": "stream",
          "name": "stdout",
          "text": [
            "[   0.         4000.         4000.         4000.            0.\n",
            "    0.         4000.         4000.         4000.            0.\n",
            "    0.         3999.         3999.99975    3998.99999994    0.\n",
            "    0.         3998.00049994 3999.99900025 3998.00049969    0.\n",
            "    0.         3997.00149944 3999.99775125 3997.00149888    0.\n",
            "    0.         3996.00299813 3999.9960035  3996.00299713    0.\n",
            "    0.         3995.00499563 3999.99375749 3995.00499407    0.\n",
            "    0.         3994.00749157 3999.99101374 3994.00748932    0.\n",
            "    0.         3993.01048558 3999.98777272 3993.01048252    0.\n",
            "    0.         3992.01397728 3999.98403495 3992.01397329    0.        ]\n"
          ]
        }
      ]
    }
  ]
}