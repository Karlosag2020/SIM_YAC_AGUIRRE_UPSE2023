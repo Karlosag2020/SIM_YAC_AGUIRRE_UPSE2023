{
  "nbformat": 4,
  "nbformat_minor": 0,
  "metadata": {
    "colab": {
      "provenance": [],
      "authorship_tag": "ABX9TyOcUpS8C9qeZ+9OeQ6azGLv",
      "include_colab_link": true
    },
    "kernelspec": {
      "name": "python3",
      "display_name": "Python 3"
    },
    "language_info": {
      "name": "python"
    }
  },
  "cells": [
    {
      "cell_type": "markdown",
      "metadata": {
        "id": "view-in-github",
        "colab_type": "text"
      },
      "source": [
        "<a href=\"https://colab.research.google.com/github/Karlosag2020/SIM_YAC_AGUIRRE_UPSE2023/blob/main/Ec%2C%20difusividad%202%20para%20deber.ipynb\" target=\"_parent\"><img src=\"https://colab.research.google.com/assets/colab-badge.svg\" alt=\"Open In Colab\"/></a>"
      ]
    },
    {
      "cell_type": "markdown",
      "source": [
        "#Simulador de ecuación de difusividad\n"
      ],
      "metadata": {
        "id": "U0XUrjrjwYBD"
      }
    },
    {
      "cell_type": "code",
      "source": [
        "P= [0, 4000, 4000, 4000, 4000, 0 ] #condiciones iniciales\n",
        "Nodos=len(P)\n",
        "Nodos2=[0, 1, 2, 3, 4, 5]\n",
        "Tiempo=100\n",
        "DT=10\n",
        "dx=200\n",
        "#Iniciamos\n",
        "t=DT\n",
        "Pin=P\n",
        "Pin2=Pin #Resultado\n",
        "Pdt=[0, 0, 0, 0, 0, 0]\n",
        "import numpy as np"
      ],
      "metadata": {
        "id": "zyHNMbjQwbju"
      },
      "execution_count": 45,
      "outputs": []
    },
    {
      "cell_type": "code",
      "source": [
        "print(Pin)"
      ],
      "metadata": {
        "colab": {
          "base_uri": "https://localhost:8080/"
        },
        "id": "QThVJOaDMo1V",
        "outputId": "b43743f0-bfc5-4e54-a336-0cb7b17bf5f8"
      },
      "execution_count": 46,
      "outputs": [
        {
          "output_type": "stream",
          "name": "stdout",
          "text": [
            "[0, 4000, 4000, 4000, 4000, 0]\n"
          ]
        }
      ]
    },
    {
      "cell_type": "code",
      "source": [
        "def Presdt(P1,P2,P3,deltat,deltax):\n",
        "  return(((P1-2*P2+P3)/(deltax*deltax))*deltat)+P2"
      ],
      "metadata": {
        "id": "e_mz2njRzimP"
      },
      "execution_count": 47,
      "outputs": []
    },
    {
      "cell_type": "code",
      "source": [
        "Presdt(P[0],P[1],P[2],DT,dx)"
      ],
      "metadata": {
        "colab": {
          "base_uri": "https://localhost:8080/"
        },
        "id": "pf6vC_436dAv",
        "outputId": "9b087110-34a1-4338-ae85-7cf31bee7569"
      },
      "execution_count": 48,
      "outputs": [
        {
          "output_type": "execute_result",
          "data": {
            "text/plain": [
              "3999.0"
            ]
          },
          "metadata": {},
          "execution_count": 48
        }
      ]
    },
    {
      "cell_type": "code",
      "source": [
        "while t<Tiempo:\n",
        "    for i in (Nodos2):\n",
        "      if i==0:\n",
        "        Pdt[i]=P[0]\n",
        "      elif i==len(Nodos2)-1:\n",
        "        Pdt[i]=P[len(Nodos2)-1]\n",
        "      else:\n",
        "        Pdt[i]=Presdt(Pin[i-1],Pin[i],Pin[i+1],DT,dx)\n",
        "    t=t+DT\n",
        "    Pdt=Pin \n",
        "    Pin2=np.append(Pin2,Pdt)"
      ],
      "metadata": {
        "id": "fM05kjpX0yed"
      },
      "execution_count": 49,
      "outputs": []
    },
    {
      "cell_type": "code",
      "source": [
        "print(Pin2)"
      ],
      "metadata": {
        "colab": {
          "base_uri": "https://localhost:8080/"
        },
        "id": "ztVxGi3E_HJ4",
        "outputId": "45eb84fd-accc-4b11-c908-b7a195f721d1"
      },
      "execution_count": 50,
      "outputs": [
        {
          "output_type": "stream",
          "name": "stdout",
          "text": [
            "[   0.         4000.         4000.         4000.         4000.\n",
            "    0.            0.         4000.         4000.         4000.\n",
            " 4000.            0.            0.         3999.         3999.99975\n",
            " 3999.99999994 3999.            0.            0.         3998.00049994\n",
            " 3999.99925025 3999.99974975 3998.00049994    0.            0.\n",
            " 3997.0014995  3999.99850094 3999.99924963 3997.0014995     0.\n",
            "    0.         3996.00299838 3999.99750225 3999.99849975 3996.00299838\n",
            "    0.            0.         3995.00499625 3999.99625437 3999.99750031\n",
            " 3995.00499625    0.            0.         3994.00749282 3999.99475749\n",
            " 3999.9962515  3994.00749282    0.            0.         3993.01048776\n",
            " 3999.9930118  3999.9947535  3993.01048776    0.            0.\n",
            " 3992.01398077 3999.99101748 3999.9930065  3992.01398077    0.        ]\n"
          ]
        }
      ]
    },
    {
      "cell_type": "code",
      "source": [
        "len(Pin2)"
      ],
      "metadata": {
        "colab": {
          "base_uri": "https://localhost:8080/"
        },
        "id": "-TZBK3PwMe7j",
        "outputId": "e5baf75b-ae37-44bc-d632-5d548f0f49f3"
      },
      "execution_count": 51,
      "outputs": [
        {
          "output_type": "execute_result",
          "data": {
            "text/plain": [
              "60"
            ]
          },
          "metadata": {},
          "execution_count": 51
        }
      ]
    }
  ]
}